{
 "cells": [
  {
   "cell_type": "markdown",
   "id": "7a4c2bef",
   "metadata": {},
   "source": [
    "# Task 1: Exploratory Data Analysis and Data Preprocessing\n",
    "\n",
    "## Intelligent Complaint Analysis for Financial Services\n",
    "\n",
    "This notebook performs comprehensive exploratory data analysis and preprocessing of the CFPB complaint dataset for the RAG-powered chatbot project.\n",
    "\n",
    "**Objectives:**\n",
    "- Load and explore the CFPB complaint dataset\n",
    "- Analyze complaint distributions across financial products\n",
    "- Perform text analysis on complaint narratives\n",
    "- Clean and filter data for the specified products\n",
    "- Prepare data for embedding and vector store creation"
   ]
  },
  {
   "cell_type": "code",
   "execution_count": null,
   "id": "344dc722",
   "metadata": {},
   "outputs": [
    {
     "name": "stdout",
     "output_type": "stream",
     "text": [
      "Downloading NLTK resource: punkt_tab\n",
      "Libraries imported successfully!\n",
      "Current working directory: c:\\.vscode\\jupiter\\Intelligent-Complaint-Analysis-for-Financial-Services\\notebooks\n",
      "Libraries imported successfully!\n",
      "Current working directory: c:\\.vscode\\jupiter\\Intelligent-Complaint-Analysis-for-Financial-Services\\notebooks\n"
     ]
    }
   ],
   "source": [
    "# Import Required Libraries\n",
    "import pandas as pd\n",
    "import numpy as np\n",
    "import matplotlib.pyplot as plt\n",
    "import seaborn as sns\n",
    "import plotly.express as px\n",
    "import plotly.graph_objects as go\n",
    "from plotly.subplots import make_subplots\n",
    "import warnings\n",
    "import os\n",
    "from collections import Counter\n",
    "import nltk\n",
    "from nltk.corpus import stopwords\n",
    "from nltk.tokenize import word_tokenize\n",
    "import textstat\n",
    "from wordcloud import WordCloud\n",
    "import re\n",
    "from datetime import datetime\n",
    "import zipfile\n",
    "import requests\n",
    "from io import BytesIO\n",
    "\n",
    "# Configure plotting\n",
    "warnings.filterwarnings('ignore')\n",
    "plt.style.use('seaborn')\n",
    "sns.set_palette(\"husl\")\n",
    "\n",
    "# Set up NLTK - download required resources\n",
    "nltk_resources = ['punkt', 'punkt_tab', 'stopwords']\n",
    "for resource in nltk_resources:\n",
    "    try:\n",
    "        nltk.data.find(f'tokenizers/{resource}' if resource.startswith('punkt') else f'corpora/{resource}')\n",
    "    except LookupError:\n",
    "        print(f\"Downloading NLTK resource: {resource}\")\n",
    "        nltk.download(resource, quiet=True)\n",
    "\n",
    "print(\"Libraries imported successfully!\")\n",
    "\n",
    "print(f\"Current working directory: {os.getcwd()}\")"
   ]
  },
  {
   "cell_type": "markdown",
   "id": "57c01cf8",
   "metadata": {},
   "source": [
    "## 1. Data Loading and Initial Exploration\n",
    "\n",
    "We'll load the CFPB complaint dataset and perform initial exploration to understand the structure and content of the data."
   ]
  },
  {
   "cell_type": "code",
   "execution_count": 17,
   "id": "0fc9e7e0",
   "metadata": {},
   "outputs": [
    {
     "name": "stdout",
     "output_type": "stream",
     "text": [
      "Dataset already exists locally.\n",
      "Loading dataset...\n",
      "Dataset loaded successfully!\n",
      "Dataset shape: (50000, 18)\n",
      "Memory usage: 50.85 MB\n",
      "Dataset loaded successfully!\n",
      "Dataset shape: (50000, 18)\n",
      "Memory usage: 50.85 MB\n"
     ]
    }
   ],
   "source": [
    "# Load the CFPB complaint dataset\n",
    "# URL for the Consumer Complaint Database\n",
    "data_url = \"https://files.consumerfinance.gov/ccdb/complaints.csv.zip\"\n",
    "\n",
    "# Check if data already exists\n",
    "data_path = \"../data/complaints.csv\"\n",
    "if not os.path.exists(data_path):\n",
    "    print(\"Downloading CFPB complaint dataset...\")\n",
    "    \n",
    "    # Download the dataset\n",
    "    response = requests.get(data_url)\n",
    "    if response.status_code == 200:\n",
    "        # Extract the CSV from the zip file\n",
    "        with zipfile.ZipFile(BytesIO(response.content)) as zip_file:\n",
    "            zip_file.extractall(\"../data/\")\n",
    "        print(\"Dataset downloaded and extracted successfully!\")\n",
    "    else:\n",
    "        print(f\"Failed to download dataset. Status code: {response.status_code}\")\n",
    "else:\n",
    "    print(\"Dataset already exists locally.\")\n",
    "\n",
    "# Load the dataset\n",
    "print(\"Loading dataset...\")\n",
    "df = pd.read_csv(data_path, nrows=50000, low_memory=False)\n",
    "\n",
    "print(f\"Dataset loaded successfully!\")\n",
    "print(f\"Dataset shape: {df.shape}\")\n",
    "print(f\"Memory usage: {df.memory_usage(deep=True).sum() / 1024**2:.2f} MB\")"
   ]
  },
  {
   "cell_type": "code",
   "execution_count": 18,
   "id": "df0fb88d",
   "metadata": {},
   "outputs": [
    {
     "name": "stdout",
     "output_type": "stream",
     "text": [
      "=== DATASET OVERVIEW ===\n",
      "Shape: (50000, 18)\n",
      "Columns: ['Date received', 'Product', 'Sub-product', 'Issue', 'Sub-issue', 'Consumer complaint narrative', 'Company public response', 'Company', 'State', 'ZIP code', 'Tags', 'Consumer consent provided?', 'Submitted via', 'Date sent to company', 'Company response to consumer', 'Timely response?', 'Consumer disputed?', 'Complaint ID']\n",
      "\n",
      "=== FIRST FEW ROWS ===\n",
      "  Date received                                            Product  \\\n",
      "0    2025-06-20  Credit reporting or other personal consumer re...   \n",
      "1    2025-06-20                                    Debt collection   \n",
      "2    2025-06-20  Credit reporting or other personal consumer re...   \n",
      "3    2025-06-20  Credit reporting or other personal consumer re...   \n",
      "4    2025-06-20  Credit reporting or other personal consumer re...   \n",
      "\n",
      "               Sub-product                                 Issue  \\\n",
      "0         Credit reporting  Incorrect information on your report   \n",
      "1  Telecommunications debt     Attempts to collect debt not owed   \n",
      "2         Credit reporting           Improper use of your report   \n",
      "3         Credit reporting           Improper use of your report   \n",
      "4         Credit reporting  Incorrect information on your report   \n",
      "\n",
      "                                       Sub-issue Consumer complaint narrative  \\\n",
      "0            Information belongs to someone else                          NaN   \n",
      "1                              Debt is not yours                          NaN   \n",
      "2  Reporting company used your report improperly                          NaN   \n",
      "3  Reporting company used your report improperly                          NaN   \n",
      "4                       Account status incorrect                          NaN   \n",
      "\n",
      "                             Company public response  \\\n",
      "0                                                NaN   \n",
      "1  Company can't verify or dispute the facts in t...   \n",
      "2                                                NaN   \n",
      "3                                                NaN   \n",
      "4                                                NaN   \n",
      "\n",
      "                                        Company State ZIP code Tags  \\\n",
      "0           Experian Information Solutions Inc.    FL    32092  NaN   \n",
      "1  Eastern Account Systems of Connecticut, Inc.    FL    342XX  NaN   \n",
      "2        TRANSUNION INTERMEDIATE HOLDINGS, INC.    AZ    85225  NaN   \n",
      "3           Experian Information Solutions Inc.    AZ    85225  NaN   \n",
      "4           Experian Information Solutions Inc.    IL    60628  NaN   \n",
      "\n",
      "  Consumer consent provided? Submitted via Date sent to company  \\\n",
      "0                        NaN           Web           2025-06-20   \n",
      "1                        NaN           Web           2025-06-20   \n",
      "2                        NaN           Web           2025-06-20   \n",
      "3                        NaN           Web           2025-06-20   \n",
      "4                        NaN           Web           2025-06-20   \n",
      "\n",
      "  Company response to consumer Timely response?  Consumer disputed?  \\\n",
      "0                  In progress              Yes                 NaN   \n",
      "1      Closed with explanation              Yes                 NaN   \n",
      "2                  In progress              Yes                 NaN   \n",
      "3                  In progress              Yes                 NaN   \n",
      "4                  In progress              Yes                 NaN   \n",
      "\n",
      "   Complaint ID  \n",
      "0      14195687  \n",
      "1      14195688  \n",
      "2      14195689  \n",
      "3      14195690  \n",
      "4      14195692  \n",
      "\n",
      "=== DATA TYPES ===\n",
      "Date received                    object\n",
      "Product                          object\n",
      "Sub-product                      object\n",
      "Issue                            object\n",
      "Sub-issue                        object\n",
      "Consumer complaint narrative     object\n",
      "Company public response          object\n",
      "Company                          object\n",
      "State                            object\n",
      "ZIP code                         object\n",
      "Tags                             object\n",
      "Consumer consent provided?       object\n",
      "Submitted via                    object\n",
      "Date sent to company             object\n",
      "Company response to consumer     object\n",
      "Timely response?                 object\n",
      "Consumer disputed?              float64\n",
      "Complaint ID                      int64\n",
      "dtype: object\n",
      "\n",
      "=== MISSING VALUES ===\n",
      "                              Missing Count  Missing Percentage\n",
      "Consumer disputed?                    50000             100.000\n",
      "Consumer complaint narrative          49328              98.656\n",
      "Tags                                  48970              97.940\n",
      "Company public response               48658              97.316\n",
      "Consumer consent provided?            48351              96.702\n",
      "Sub-issue                               428               0.856\n",
      "State                                    55               0.110\n",
      "\n",
      "=== BASIC STATISTICS ===\n",
      "       Date received                                            Product  \\\n",
      "count          50000                                              50000   \n",
      "unique           144                                                 11   \n",
      "top       2025-06-18  Credit reporting or other personal consumer re...   \n",
      "freq           12981                                              46253   \n",
      "mean             NaN                                                NaN   \n",
      "std              NaN                                                NaN   \n",
      "min              NaN                                                NaN   \n",
      "25%              NaN                                                NaN   \n",
      "50%              NaN                                                NaN   \n",
      "75%              NaN                                                NaN   \n",
      "max              NaN                                                NaN   \n",
      "\n",
      "             Sub-product                                 Issue  \\\n",
      "count              50000                                 50000   \n",
      "unique                50                                    69   \n",
      "top     Credit reporting  Incorrect information on your report   \n",
      "freq               46132                                 25482   \n",
      "mean                 NaN                                   NaN   \n",
      "std                  NaN                                   NaN   \n",
      "min                  NaN                                   NaN   \n",
      "25%                  NaN                                   NaN   \n",
      "50%                  NaN                                   NaN   \n",
      "75%                  NaN                                   NaN   \n",
      "max                  NaN                                   NaN   \n",
      "\n",
      "                                  Sub-issue  \\\n",
      "count                                 49572   \n",
      "unique                                  160   \n",
      "top     Information belongs to someone else   \n",
      "freq                                  17279   \n",
      "mean                                    NaN   \n",
      "std                                     NaN   \n",
      "min                                     NaN   \n",
      "25%                                     NaN   \n",
      "50%                                     NaN   \n",
      "75%                                     NaN   \n",
      "max                                     NaN   \n",
      "\n",
      "                             Consumer complaint narrative  \\\n",
      "count                                                 672   \n",
      "unique                                                627   \n",
      "top     Upon reviewing my credit report, I have identi...   \n",
      "freq                                                    7   \n",
      "mean                                                  NaN   \n",
      "std                                                   NaN   \n",
      "min                                                   NaN   \n",
      "25%                                                   NaN   \n",
      "50%                                                   NaN   \n",
      "75%                                                   NaN   \n",
      "max                                                   NaN   \n",
      "\n",
      "                                  Company public response  \\\n",
      "count                                                1342   \n",
      "unique                                                  8   \n",
      "top     Company has responded to the consumer and the ...   \n",
      "freq                                                 1176   \n",
      "mean                                                  NaN   \n",
      "std                                                   NaN   \n",
      "min                                                   NaN   \n",
      "25%                                                   NaN   \n",
      "50%                                                   NaN   \n",
      "75%                                                   NaN   \n",
      "max                                                   NaN   \n",
      "\n",
      "                                    Company  State ZIP code           Tags  \\\n",
      "count                                 50000  49945    50000           1030   \n",
      "unique                                  573     56     7333              3   \n",
      "top     Experian Information Solutions Inc.     FL    XXXXX  Servicemember   \n",
      "freq                                  17728   7806      659            829   \n",
      "mean                                    NaN    NaN      NaN            NaN   \n",
      "std                                     NaN    NaN      NaN            NaN   \n",
      "min                                     NaN    NaN      NaN            NaN   \n",
      "25%                                     NaN    NaN      NaN            NaN   \n",
      "50%                                     NaN    NaN      NaN            NaN   \n",
      "75%                                     NaN    NaN      NaN            NaN   \n",
      "max                                     NaN    NaN      NaN            NaN   \n",
      "\n",
      "       Consumer consent provided? Submitted via Date sent to company  \\\n",
      "count                        1649         50000                50000   \n",
      "unique                          4             4                  130   \n",
      "top          Consent not provided           Web           2025-06-18   \n",
      "freq                          735         49823                13044   \n",
      "mean                          NaN           NaN                  NaN   \n",
      "std                           NaN           NaN                  NaN   \n",
      "min                           NaN           NaN                  NaN   \n",
      "25%                           NaN           NaN                  NaN   \n",
      "50%                           NaN           NaN                  NaN   \n",
      "75%                           NaN           NaN                  NaN   \n",
      "max                           NaN           NaN                  NaN   \n",
      "\n",
      "       Company response to consumer Timely response?  Consumer disputed?  \\\n",
      "count                         50000            50000                 0.0   \n",
      "unique                            5                2                 NaN   \n",
      "top                     In progress              Yes                 NaN   \n",
      "freq                          46286            49815                 NaN   \n",
      "mean                            NaN              NaN                 NaN   \n",
      "std                             NaN              NaN                 NaN   \n",
      "min                             NaN              NaN                 NaN   \n",
      "25%                             NaN              NaN                 NaN   \n",
      "50%                             NaN              NaN                 NaN   \n",
      "75%                             NaN              NaN                 NaN   \n",
      "max                             NaN              NaN                 NaN   \n",
      "\n",
      "        Complaint ID  \n",
      "count   5.000000e+04  \n",
      "unique           NaN  \n",
      "top              NaN  \n",
      "freq             NaN  \n",
      "mean    1.408844e+07  \n",
      "std     2.596556e+05  \n",
      "min     1.111914e+07  \n",
      "25%     1.411379e+07  \n",
      "50%     1.415055e+07  \n",
      "75%     1.417269e+07  \n",
      "max     1.421020e+07  \n",
      "       Date received                                            Product  \\\n",
      "count          50000                                              50000   \n",
      "unique           144                                                 11   \n",
      "top       2025-06-18  Credit reporting or other personal consumer re...   \n",
      "freq           12981                                              46253   \n",
      "mean             NaN                                                NaN   \n",
      "std              NaN                                                NaN   \n",
      "min              NaN                                                NaN   \n",
      "25%              NaN                                                NaN   \n",
      "50%              NaN                                                NaN   \n",
      "75%              NaN                                                NaN   \n",
      "max              NaN                                                NaN   \n",
      "\n",
      "             Sub-product                                 Issue  \\\n",
      "count              50000                                 50000   \n",
      "unique                50                                    69   \n",
      "top     Credit reporting  Incorrect information on your report   \n",
      "freq               46132                                 25482   \n",
      "mean                 NaN                                   NaN   \n",
      "std                  NaN                                   NaN   \n",
      "min                  NaN                                   NaN   \n",
      "25%                  NaN                                   NaN   \n",
      "50%                  NaN                                   NaN   \n",
      "75%                  NaN                                   NaN   \n",
      "max                  NaN                                   NaN   \n",
      "\n",
      "                                  Sub-issue  \\\n",
      "count                                 49572   \n",
      "unique                                  160   \n",
      "top     Information belongs to someone else   \n",
      "freq                                  17279   \n",
      "mean                                    NaN   \n",
      "std                                     NaN   \n",
      "min                                     NaN   \n",
      "25%                                     NaN   \n",
      "50%                                     NaN   \n",
      "75%                                     NaN   \n",
      "max                                     NaN   \n",
      "\n",
      "                             Consumer complaint narrative  \\\n",
      "count                                                 672   \n",
      "unique                                                627   \n",
      "top     Upon reviewing my credit report, I have identi...   \n",
      "freq                                                    7   \n",
      "mean                                                  NaN   \n",
      "std                                                   NaN   \n",
      "min                                                   NaN   \n",
      "25%                                                   NaN   \n",
      "50%                                                   NaN   \n",
      "75%                                                   NaN   \n",
      "max                                                   NaN   \n",
      "\n",
      "                                  Company public response  \\\n",
      "count                                                1342   \n",
      "unique                                                  8   \n",
      "top     Company has responded to the consumer and the ...   \n",
      "freq                                                 1176   \n",
      "mean                                                  NaN   \n",
      "std                                                   NaN   \n",
      "min                                                   NaN   \n",
      "25%                                                   NaN   \n",
      "50%                                                   NaN   \n",
      "75%                                                   NaN   \n",
      "max                                                   NaN   \n",
      "\n",
      "                                    Company  State ZIP code           Tags  \\\n",
      "count                                 50000  49945    50000           1030   \n",
      "unique                                  573     56     7333              3   \n",
      "top     Experian Information Solutions Inc.     FL    XXXXX  Servicemember   \n",
      "freq                                  17728   7806      659            829   \n",
      "mean                                    NaN    NaN      NaN            NaN   \n",
      "std                                     NaN    NaN      NaN            NaN   \n",
      "min                                     NaN    NaN      NaN            NaN   \n",
      "25%                                     NaN    NaN      NaN            NaN   \n",
      "50%                                     NaN    NaN      NaN            NaN   \n",
      "75%                                     NaN    NaN      NaN            NaN   \n",
      "max                                     NaN    NaN      NaN            NaN   \n",
      "\n",
      "       Consumer consent provided? Submitted via Date sent to company  \\\n",
      "count                        1649         50000                50000   \n",
      "unique                          4             4                  130   \n",
      "top          Consent not provided           Web           2025-06-18   \n",
      "freq                          735         49823                13044   \n",
      "mean                          NaN           NaN                  NaN   \n",
      "std                           NaN           NaN                  NaN   \n",
      "min                           NaN           NaN                  NaN   \n",
      "25%                           NaN           NaN                  NaN   \n",
      "50%                           NaN           NaN                  NaN   \n",
      "75%                           NaN           NaN                  NaN   \n",
      "max                           NaN           NaN                  NaN   \n",
      "\n",
      "       Company response to consumer Timely response?  Consumer disputed?  \\\n",
      "count                         50000            50000                 0.0   \n",
      "unique                            5                2                 NaN   \n",
      "top                     In progress              Yes                 NaN   \n",
      "freq                          46286            49815                 NaN   \n",
      "mean                            NaN              NaN                 NaN   \n",
      "std                             NaN              NaN                 NaN   \n",
      "min                             NaN              NaN                 NaN   \n",
      "25%                             NaN              NaN                 NaN   \n",
      "50%                             NaN              NaN                 NaN   \n",
      "75%                             NaN              NaN                 NaN   \n",
      "max                             NaN              NaN                 NaN   \n",
      "\n",
      "        Complaint ID  \n",
      "count   5.000000e+04  \n",
      "unique           NaN  \n",
      "top              NaN  \n",
      "freq             NaN  \n",
      "mean    1.408844e+07  \n",
      "std     2.596556e+05  \n",
      "min     1.111914e+07  \n",
      "25%     1.411379e+07  \n",
      "50%     1.415055e+07  \n",
      "75%     1.417269e+07  \n",
      "max     1.421020e+07  \n"
     ]
    }
   ],
   "source": [
    "# Initial data exploration\n",
    "print(\"=== DATASET OVERVIEW ===\")\n",
    "print(f\"Shape: {df.shape}\")\n",
    "print(f\"Columns: {df.columns.tolist()}\")\n",
    "print(\"\\n=== FIRST FEW ROWS ===\")\n",
    "print(df.head())\n",
    "\n",
    "print(\"\\n=== DATA TYPES ===\")\n",
    "print(df.dtypes)\n",
    "\n",
    "print(\"\\n=== MISSING VALUES ===\")\n",
    "missing_values = df.isnull().sum()\n",
    "missing_percentage = (missing_values / len(df)) * 100\n",
    "missing_df = pd.DataFrame({\n",
    "    'Missing Count': missing_values,\n",
    "    'Missing Percentage': missing_percentage\n",
    "}).sort_values('Missing Count', ascending=False)\n",
    "print(missing_df[missing_df['Missing Count'] > 0])\n",
    "\n",
    "print(\"\\n=== BASIC STATISTICS ===\")\n",
    "print(df.describe(include='all'))"
   ]
  },
  {
   "cell_type": "markdown",
   "id": "750fa7cf",
   "metadata": {},
   "source": [
    "## 2. Product Distribution Analysis\n",
    "\n",
    "Let's analyze the distribution of complaints across different financial products, with focus on our target products: Credit card, Personal loan, Buy Now Pay Later (BNPL), Savings account, and Money transfers."
   ]
  },
  {
   "cell_type": "code",
   "execution_count": 19,
   "id": "752fb1ee",
   "metadata": {},
   "outputs": [
    {
     "name": "stdout",
     "output_type": "stream",
     "text": [
      "=== ALL PRODUCTS IN DATASET ===\n",
      "Credit reporting or other personal consumer reports        46253\n",
      "Debt collection                                             2171\n",
      "Credit card                                                  569\n",
      "Checking or savings account                                  331\n",
      "Money transfer, virtual currency, or money service           228\n",
      "Mortgage                                                     122\n",
      "Vehicle loan or lease                                        109\n",
      "Student loan                                                 107\n",
      "Payday loan, title loan, personal loan, or advance loan       68\n",
      "Debt or credit management                                     24\n",
      "Prepaid card                                                  18\n",
      "Name: Product, dtype: int64\n",
      "\n",
      "Total unique products: 11\n",
      "Total complaints: 50000\n",
      "\n",
      "=== MAPPED PRODUCT DISTRIBUTION ===\n",
      "Other              48804\n",
      "Credit card          569\n",
      "Savings account      331\n",
      "Money transfers      228\n",
      "Personal loan         68\n",
      "Name: Product_mapped, dtype: int64\n",
      "\n",
      "Filtered dataset shape: (1196, 19)\n",
      "Percentage of original data retained: 2.39%\n"
     ]
    }
   ],
   "source": [
    "# Define our target products\n",
    "target_products = [\n",
    "    'Credit card',\n",
    "    'Personal loan', \n",
    "    'Buy Now, Pay Later (BNPL)',\n",
    "    'Savings account',\n",
    "    'Money transfers'\n",
    "]\n",
    "\n",
    "# Check unique products in the dataset\n",
    "print(\"=== ALL PRODUCTS IN DATASET ===\")\n",
    "product_counts = df['Product'].value_counts()\n",
    "print(product_counts)\n",
    "\n",
    "print(f\"\\nTotal unique products: {len(product_counts)}\")\n",
    "print(f\"Total complaints: {len(df)}\")\n",
    "\n",
    "# Map similar product names to our target products\n",
    "product_mapping = {\n",
    "    'Credit card or prepaid card': 'Credit card',\n",
    "    'Payday loan, title loan, or personal loan': 'Personal loan',\n",
    "    'Payday loan, title loan, personal loan, or advance loan': 'Personal loan',\n",
    "    'Money transfer, virtual currency, or money service': 'Money transfers',\n",
    "    'Money transfers': 'Money transfers',\n",
    "    'Checking or savings account': 'Savings account',\n",
    "    'Bank account or service': 'Savings account',\n",
    "    'Credit card': 'Credit card',\n",
    "    'Personal loan': 'Personal loan',\n",
    "    'Buy Now, Pay Later (BNPL)': 'Buy Now, Pay Later (BNPL)',\n",
    "    'Savings account': 'Savings account'\n",
    "}\n",
    "\n",
    "# Apply mapping and filter\n",
    "df['Product_mapped'] = df['Product'].map(product_mapping)\n",
    "df['Product_mapped'] = df['Product_mapped'].fillna('Other')\n",
    "\n",
    "print(\"\\n=== MAPPED PRODUCT DISTRIBUTION ===\")\n",
    "mapped_counts = df['Product_mapped'].value_counts()\n",
    "print(mapped_counts)\n",
    "\n",
    "# Filter for target products\n",
    "df_filtered = df[df['Product_mapped'].isin(target_products)].copy()\n",
    "print(f\"\\nFiltered dataset shape: {df_filtered.shape}\")\n",
    "print(f\"Percentage of original data retained: {len(df_filtered)/len(df)*100:.2f}%\")"
   ]
  },
  {
   "cell_type": "code",
   "execution_count": 20,
   "id": "751d80a3",
   "metadata": {},
   "outputs": [
    {
     "data": {
      "application/vnd.plotly.v1+json": {
       "config": {
        "plotlyServerURL": "https://plot.ly"
       },
       "data": [
        {
         "name": "All Products",
         "type": "bar",
         "x": [
          "Credit reporting or other personal consumer reports",
          "Debt collection",
          "Credit card",
          "Checking or savings account",
          "Money transfer, virtual currency, or money service",
          "Mortgage",
          "Vehicle loan or lease",
          "Student loan",
          "Payday loan, title loan, personal loan, or advance loan",
          "Debt or credit management"
         ],
         "xaxis": "x",
         "y": {
          "bdata": "rbQAAHsIAAA5AgAASwEAAOQAAAB6AAAAbQAAAGsAAABEAAAAGAAAAA==",
          "dtype": "i4"
         },
         "yaxis": "y"
        },
        {
         "domain": {
          "x": [
           0.55,
           1
          ],
          "y": [
           0.625,
           1
          ]
         },
         "labels": [
          "Credit card",
          "Savings account",
          "Money transfers",
          "Personal loan"
         ],
         "name": "Target Products",
         "type": "pie",
         "values": {
          "bdata": "OQJLAeQARAA=",
          "dtype": "i2"
         }
        },
        {
         "mode": "lines+markers",
         "name": "Credit card",
         "type": "scatter",
         "x": {
          "bdata": "6AfpBw==",
          "dtype": "i2"
         },
         "xaxis": "x2",
         "y": {
          "bdata": "AQA4Ag==",
          "dtype": "i2"
         },
         "yaxis": "y2"
        },
        {
         "mode": "lines+markers",
         "name": "Personal loan",
         "type": "scatter",
         "x": {
          "bdata": "6Qc=",
          "dtype": "i2"
         },
         "xaxis": "x2",
         "y": {
          "bdata": "RA==",
          "dtype": "i1"
         },
         "yaxis": "y2"
        },
        {
         "mode": "lines+markers",
         "name": "Buy Now, Pay Later (BNPL)",
         "type": "scatter",
         "x": [],
         "xaxis": "x2",
         "y": [],
         "yaxis": "y2"
        },
        {
         "mode": "lines+markers",
         "name": "Savings account",
         "type": "scatter",
         "x": {
          "bdata": "6Qc=",
          "dtype": "i2"
         },
         "xaxis": "x2",
         "y": {
          "bdata": "SwE=",
          "dtype": "i2"
         },
         "yaxis": "y2"
        },
        {
         "mode": "lines+markers",
         "name": "Money transfers",
         "type": "scatter",
         "x": {
          "bdata": "6Qc=",
          "dtype": "i2"
         },
         "xaxis": "x2",
         "y": {
          "bdata": "5AA=",
          "dtype": "i2"
         },
         "yaxis": "y2"
        },
        {
         "name": "Top Companies",
         "orientation": "h",
         "type": "bar",
         "x": {
          "bdata": "pABgAFsAQQA9ADsAOgA6ADUAMgA=",
          "dtype": "i2"
         },
         "xaxis": "x3",
         "y": [
          "Block, Inc.",
          "TRANSUNION INTERMEDIATE HOLDINGS, INC.",
          "Experian Information Solutions Inc.",
          "JPMORGAN CHASE & CO.",
          "WELLS FARGO & COMPANY",
          "NAVY FEDERAL CREDIT UNION",
          "EQUIFAX, INC.",
          "BANK OF AMERICA, NATIONAL ASSOCIATION",
          "CITIBANK, N.A.",
          "CAPITAL ONE FINANCIAL CORPORATION"
         ],
         "yaxis": "y3"
        }
       ],
       "layout": {
        "annotations": [
         {
          "font": {
           "size": 16
          },
          "showarrow": false,
          "text": "All Products (Top 10)",
          "x": 0.225,
          "xanchor": "center",
          "xref": "paper",
          "y": 1,
          "yanchor": "bottom",
          "yref": "paper"
         },
         {
          "font": {
           "size": 16
          },
          "showarrow": false,
          "text": "Target Products Distribution",
          "x": 0.775,
          "xanchor": "center",
          "xref": "paper",
          "y": 1,
          "yanchor": "bottom",
          "yref": "paper"
         },
         {
          "font": {
           "size": 16
          },
          "showarrow": false,
          "text": "Target Products Over Time",
          "x": 0.225,
          "xanchor": "center",
          "xref": "paper",
          "y": 0.375,
          "yanchor": "bottom",
          "yref": "paper"
         },
         {
          "font": {
           "size": 16
          },
          "showarrow": false,
          "text": "Complaints by Company Type",
          "x": 0.775,
          "xanchor": "center",
          "xref": "paper",
          "y": 0.375,
          "yanchor": "bottom",
          "yref": "paper"
         }
        ],
        "height": 800,
        "template": {
         "data": {
          "bar": [
           {
            "error_x": {
             "color": "#2a3f5f"
            },
            "error_y": {
             "color": "#2a3f5f"
            },
            "marker": {
             "line": {
              "color": "#E5ECF6",
              "width": 0.5
             },
             "pattern": {
              "fillmode": "overlay",
              "size": 10,
              "solidity": 0.2
             }
            },
            "type": "bar"
           }
          ],
          "barpolar": [
           {
            "marker": {
             "line": {
              "color": "#E5ECF6",
              "width": 0.5
             },
             "pattern": {
              "fillmode": "overlay",
              "size": 10,
              "solidity": 0.2
             }
            },
            "type": "barpolar"
           }
          ],
          "carpet": [
           {
            "aaxis": {
             "endlinecolor": "#2a3f5f",
             "gridcolor": "white",
             "linecolor": "white",
             "minorgridcolor": "white",
             "startlinecolor": "#2a3f5f"
            },
            "baxis": {
             "endlinecolor": "#2a3f5f",
             "gridcolor": "white",
             "linecolor": "white",
             "minorgridcolor": "white",
             "startlinecolor": "#2a3f5f"
            },
            "type": "carpet"
           }
          ],
          "choropleth": [
           {
            "colorbar": {
             "outlinewidth": 0,
             "ticks": ""
            },
            "type": "choropleth"
           }
          ],
          "contour": [
           {
            "colorbar": {
             "outlinewidth": 0,
             "ticks": ""
            },
            "colorscale": [
             [
              0,
              "#0d0887"
             ],
             [
              0.1111111111111111,
              "#46039f"
             ],
             [
              0.2222222222222222,
              "#7201a8"
             ],
             [
              0.3333333333333333,
              "#9c179e"
             ],
             [
              0.4444444444444444,
              "#bd3786"
             ],
             [
              0.5555555555555556,
              "#d8576b"
             ],
             [
              0.6666666666666666,
              "#ed7953"
             ],
             [
              0.7777777777777778,
              "#fb9f3a"
             ],
             [
              0.8888888888888888,
              "#fdca26"
             ],
             [
              1,
              "#f0f921"
             ]
            ],
            "type": "contour"
           }
          ],
          "contourcarpet": [
           {
            "colorbar": {
             "outlinewidth": 0,
             "ticks": ""
            },
            "type": "contourcarpet"
           }
          ],
          "heatmap": [
           {
            "colorbar": {
             "outlinewidth": 0,
             "ticks": ""
            },
            "colorscale": [
             [
              0,
              "#0d0887"
             ],
             [
              0.1111111111111111,
              "#46039f"
             ],
             [
              0.2222222222222222,
              "#7201a8"
             ],
             [
              0.3333333333333333,
              "#9c179e"
             ],
             [
              0.4444444444444444,
              "#bd3786"
             ],
             [
              0.5555555555555556,
              "#d8576b"
             ],
             [
              0.6666666666666666,
              "#ed7953"
             ],
             [
              0.7777777777777778,
              "#fb9f3a"
             ],
             [
              0.8888888888888888,
              "#fdca26"
             ],
             [
              1,
              "#f0f921"
             ]
            ],
            "type": "heatmap"
           }
          ],
          "histogram": [
           {
            "marker": {
             "pattern": {
              "fillmode": "overlay",
              "size": 10,
              "solidity": 0.2
             }
            },
            "type": "histogram"
           }
          ],
          "histogram2d": [
           {
            "colorbar": {
             "outlinewidth": 0,
             "ticks": ""
            },
            "colorscale": [
             [
              0,
              "#0d0887"
             ],
             [
              0.1111111111111111,
              "#46039f"
             ],
             [
              0.2222222222222222,
              "#7201a8"
             ],
             [
              0.3333333333333333,
              "#9c179e"
             ],
             [
              0.4444444444444444,
              "#bd3786"
             ],
             [
              0.5555555555555556,
              "#d8576b"
             ],
             [
              0.6666666666666666,
              "#ed7953"
             ],
             [
              0.7777777777777778,
              "#fb9f3a"
             ],
             [
              0.8888888888888888,
              "#fdca26"
             ],
             [
              1,
              "#f0f921"
             ]
            ],
            "type": "histogram2d"
           }
          ],
          "histogram2dcontour": [
           {
            "colorbar": {
             "outlinewidth": 0,
             "ticks": ""
            },
            "colorscale": [
             [
              0,
              "#0d0887"
             ],
             [
              0.1111111111111111,
              "#46039f"
             ],
             [
              0.2222222222222222,
              "#7201a8"
             ],
             [
              0.3333333333333333,
              "#9c179e"
             ],
             [
              0.4444444444444444,
              "#bd3786"
             ],
             [
              0.5555555555555556,
              "#d8576b"
             ],
             [
              0.6666666666666666,
              "#ed7953"
             ],
             [
              0.7777777777777778,
              "#fb9f3a"
             ],
             [
              0.8888888888888888,
              "#fdca26"
             ],
             [
              1,
              "#f0f921"
             ]
            ],
            "type": "histogram2dcontour"
           }
          ],
          "mesh3d": [
           {
            "colorbar": {
             "outlinewidth": 0,
             "ticks": ""
            },
            "type": "mesh3d"
           }
          ],
          "parcoords": [
           {
            "line": {
             "colorbar": {
              "outlinewidth": 0,
              "ticks": ""
             }
            },
            "type": "parcoords"
           }
          ],
          "pie": [
           {
            "automargin": true,
            "type": "pie"
           }
          ],
          "scatter": [
           {
            "fillpattern": {
             "fillmode": "overlay",
             "size": 10,
             "solidity": 0.2
            },
            "type": "scatter"
           }
          ],
          "scatter3d": [
           {
            "line": {
             "colorbar": {
              "outlinewidth": 0,
              "ticks": ""
             }
            },
            "marker": {
             "colorbar": {
              "outlinewidth": 0,
              "ticks": ""
             }
            },
            "type": "scatter3d"
           }
          ],
          "scattercarpet": [
           {
            "marker": {
             "colorbar": {
              "outlinewidth": 0,
              "ticks": ""
             }
            },
            "type": "scattercarpet"
           }
          ],
          "scattergeo": [
           {
            "marker": {
             "colorbar": {
              "outlinewidth": 0,
              "ticks": ""
             }
            },
            "type": "scattergeo"
           }
          ],
          "scattergl": [
           {
            "marker": {
             "colorbar": {
              "outlinewidth": 0,
              "ticks": ""
             }
            },
            "type": "scattergl"
           }
          ],
          "scattermap": [
           {
            "marker": {
             "colorbar": {
              "outlinewidth": 0,
              "ticks": ""
             }
            },
            "type": "scattermap"
           }
          ],
          "scattermapbox": [
           {
            "marker": {
             "colorbar": {
              "outlinewidth": 0,
              "ticks": ""
             }
            },
            "type": "scattermapbox"
           }
          ],
          "scatterpolar": [
           {
            "marker": {
             "colorbar": {
              "outlinewidth": 0,
              "ticks": ""
             }
            },
            "type": "scatterpolar"
           }
          ],
          "scatterpolargl": [
           {
            "marker": {
             "colorbar": {
              "outlinewidth": 0,
              "ticks": ""
             }
            },
            "type": "scatterpolargl"
           }
          ],
          "scatterternary": [
           {
            "marker": {
             "colorbar": {
              "outlinewidth": 0,
              "ticks": ""
             }
            },
            "type": "scatterternary"
           }
          ],
          "surface": [
           {
            "colorbar": {
             "outlinewidth": 0,
             "ticks": ""
            },
            "colorscale": [
             [
              0,
              "#0d0887"
             ],
             [
              0.1111111111111111,
              "#46039f"
             ],
             [
              0.2222222222222222,
              "#7201a8"
             ],
             [
              0.3333333333333333,
              "#9c179e"
             ],
             [
              0.4444444444444444,
              "#bd3786"
             ],
             [
              0.5555555555555556,
              "#d8576b"
             ],
             [
              0.6666666666666666,
              "#ed7953"
             ],
             [
              0.7777777777777778,
              "#fb9f3a"
             ],
             [
              0.8888888888888888,
              "#fdca26"
             ],
             [
              1,
              "#f0f921"
             ]
            ],
            "type": "surface"
           }
          ],
          "table": [
           {
            "cells": {
             "fill": {
              "color": "#EBF0F8"
             },
             "line": {
              "color": "white"
             }
            },
            "header": {
             "fill": {
              "color": "#C8D4E3"
             },
             "line": {
              "color": "white"
             }
            },
            "type": "table"
           }
          ]
         },
         "layout": {
          "annotationdefaults": {
           "arrowcolor": "#2a3f5f",
           "arrowhead": 0,
           "arrowwidth": 1
          },
          "autotypenumbers": "strict",
          "coloraxis": {
           "colorbar": {
            "outlinewidth": 0,
            "ticks": ""
           }
          },
          "colorscale": {
           "diverging": [
            [
             0,
             "#8e0152"
            ],
            [
             0.1,
             "#c51b7d"
            ],
            [
             0.2,
             "#de77ae"
            ],
            [
             0.3,
             "#f1b6da"
            ],
            [
             0.4,
             "#fde0ef"
            ],
            [
             0.5,
             "#f7f7f7"
            ],
            [
             0.6,
             "#e6f5d0"
            ],
            [
             0.7,
             "#b8e186"
            ],
            [
             0.8,
             "#7fbc41"
            ],
            [
             0.9,
             "#4d9221"
            ],
            [
             1,
             "#276419"
            ]
           ],
           "sequential": [
            [
             0,
             "#0d0887"
            ],
            [
             0.1111111111111111,
             "#46039f"
            ],
            [
             0.2222222222222222,
             "#7201a8"
            ],
            [
             0.3333333333333333,
             "#9c179e"
            ],
            [
             0.4444444444444444,
             "#bd3786"
            ],
            [
             0.5555555555555556,
             "#d8576b"
            ],
            [
             0.6666666666666666,
             "#ed7953"
            ],
            [
             0.7777777777777778,
             "#fb9f3a"
            ],
            [
             0.8888888888888888,
             "#fdca26"
            ],
            [
             1,
             "#f0f921"
            ]
           ],
           "sequentialminus": [
            [
             0,
             "#0d0887"
            ],
            [
             0.1111111111111111,
             "#46039f"
            ],
            [
             0.2222222222222222,
             "#7201a8"
            ],
            [
             0.3333333333333333,
             "#9c179e"
            ],
            [
             0.4444444444444444,
             "#bd3786"
            ],
            [
             0.5555555555555556,
             "#d8576b"
            ],
            [
             0.6666666666666666,
             "#ed7953"
            ],
            [
             0.7777777777777778,
             "#fb9f3a"
            ],
            [
             0.8888888888888888,
             "#fdca26"
            ],
            [
             1,
             "#f0f921"
            ]
           ]
          },
          "colorway": [
           "#636efa",
           "#EF553B",
           "#00cc96",
           "#ab63fa",
           "#FFA15A",
           "#19d3f3",
           "#FF6692",
           "#B6E880",
           "#FF97FF",
           "#FECB52"
          ],
          "font": {
           "color": "#2a3f5f"
          },
          "geo": {
           "bgcolor": "white",
           "lakecolor": "white",
           "landcolor": "#E5ECF6",
           "showlakes": true,
           "showland": true,
           "subunitcolor": "white"
          },
          "hoverlabel": {
           "align": "left"
          },
          "hovermode": "closest",
          "mapbox": {
           "style": "light"
          },
          "paper_bgcolor": "white",
          "plot_bgcolor": "#E5ECF6",
          "polar": {
           "angularaxis": {
            "gridcolor": "white",
            "linecolor": "white",
            "ticks": ""
           },
           "bgcolor": "#E5ECF6",
           "radialaxis": {
            "gridcolor": "white",
            "linecolor": "white",
            "ticks": ""
           }
          },
          "scene": {
           "xaxis": {
            "backgroundcolor": "#E5ECF6",
            "gridcolor": "white",
            "gridwidth": 2,
            "linecolor": "white",
            "showbackground": true,
            "ticks": "",
            "zerolinecolor": "white"
           },
           "yaxis": {
            "backgroundcolor": "#E5ECF6",
            "gridcolor": "white",
            "gridwidth": 2,
            "linecolor": "white",
            "showbackground": true,
            "ticks": "",
            "zerolinecolor": "white"
           },
           "zaxis": {
            "backgroundcolor": "#E5ECF6",
            "gridcolor": "white",
            "gridwidth": 2,
            "linecolor": "white",
            "showbackground": true,
            "ticks": "",
            "zerolinecolor": "white"
           }
          },
          "shapedefaults": {
           "line": {
            "color": "#2a3f5f"
           }
          },
          "ternary": {
           "aaxis": {
            "gridcolor": "white",
            "linecolor": "white",
            "ticks": ""
           },
           "baxis": {
            "gridcolor": "white",
            "linecolor": "white",
            "ticks": ""
           },
           "bgcolor": "#E5ECF6",
           "caxis": {
            "gridcolor": "white",
            "linecolor": "white",
            "ticks": ""
           }
          },
          "title": {
           "x": 0.05
          },
          "xaxis": {
           "automargin": true,
           "gridcolor": "white",
           "linecolor": "white",
           "ticks": "",
           "title": {
            "standoff": 15
           },
           "zerolinecolor": "white",
           "zerolinewidth": 2
          },
          "yaxis": {
           "automargin": true,
           "gridcolor": "white",
           "linecolor": "white",
           "ticks": "",
           "title": {
            "standoff": 15
           },
           "zerolinecolor": "white",
           "zerolinewidth": 2
          }
         }
        },
        "title": {
         "text": "Complaint Distribution Analysis"
        },
        "xaxis": {
         "anchor": "y",
         "domain": [
          0,
          0.45
         ],
         "tickangle": 45
        },
        "xaxis2": {
         "anchor": "y2",
         "domain": [
          0,
          0.45
         ]
        },
        "xaxis3": {
         "anchor": "y3",
         "domain": [
          0.55,
          1
         ]
        },
        "yaxis": {
         "anchor": "x",
         "domain": [
          0.625,
          1
         ]
        },
        "yaxis2": {
         "anchor": "x2",
         "domain": [
          0,
          0.375
         ]
        },
        "yaxis3": {
         "anchor": "x3",
         "domain": [
          0,
          0.375
         ]
        }
       }
      }
     },
     "metadata": {},
     "output_type": "display_data"
    },
    {
     "name": "stdout",
     "output_type": "stream",
     "text": [
      "=== TARGET PRODUCTS SUMMARY ===\n",
      "Credit card: 569 complaints (47.6%)\n",
      "Personal loan: 68 complaints (5.7%)\n",
      "Buy Now, Pay Later (BNPL): 0 complaints (0.0%)\n",
      "Savings account: 331 complaints (27.7%)\n",
      "Money transfers: 228 complaints (19.1%)\n"
     ]
    }
   ],
   "source": [
    "# Visualize product distribution\n",
    "fig = make_subplots(\n",
    "    rows=2, cols=2,\n",
    "    subplot_titles=('All Products (Top 10)', 'Target Products Distribution', \n",
    "                   'Target Products Over Time', 'Complaints by Company Type'),\n",
    "    specs=[[{\"type\": \"bar\"}, {\"type\": \"pie\"}],\n",
    "           [{\"type\": \"scatter\"}, {\"type\": \"bar\"}]]\n",
    ")\n",
    "\n",
    "# Top 10 products\n",
    "top_products = product_counts.head(10)\n",
    "fig.add_trace(\n",
    "    go.Bar(x=top_products.index, y=top_products.values, name=\"All Products\"),\n",
    "    row=1, col=1\n",
    ")\n",
    "\n",
    "# Target products pie chart\n",
    "target_counts = df_filtered['Product_mapped'].value_counts()\n",
    "fig.add_trace(\n",
    "    go.Pie(labels=target_counts.index, values=target_counts.values, name=\"Target Products\"),\n",
    "    row=1, col=2\n",
    ")\n",
    "\n",
    "# Time series of complaints for target products\n",
    "df_filtered['Date received'] = pd.to_datetime(df_filtered['Date received'])\n",
    "df_filtered['Year'] = df_filtered['Date received'].dt.year\n",
    "yearly_complaints = df_filtered.groupby(['Year', 'Product_mapped']).size().reset_index(name='Count')\n",
    "\n",
    "for product in target_products:\n",
    "    product_data = yearly_complaints[yearly_complaints['Product_mapped'] == product]\n",
    "    fig.add_trace(\n",
    "        go.Scatter(x=product_data['Year'], y=product_data['Count'], \n",
    "                  name=product, mode='lines+markers'),\n",
    "        row=2, col=1\n",
    "    )\n",
    "\n",
    "# Company distribution (top 10)\n",
    "company_counts = df_filtered['Company'].value_counts().head(10)\n",
    "fig.add_trace(\n",
    "    go.Bar(x=company_counts.values, y=company_counts.index, \n",
    "           orientation='h', name=\"Top Companies\"),\n",
    "    row=2, col=2\n",
    ")\n",
    "\n",
    "fig.update_layout(height=800, title_text=\"Complaint Distribution Analysis\")\n",
    "fig.update_xaxes(tickangle=45, row=1, col=1)\n",
    "fig.show()\n",
    "\n",
    "print(\"=== TARGET PRODUCTS SUMMARY ===\")\n",
    "for product in target_products:\n",
    "    count = target_counts.get(product, 0)\n",
    "    percentage = (count / len(df_filtered)) * 100\n",
    "    print(f\"{product}: {count:,} complaints ({percentage:.1f}%)\")"
   ]
  },
  {
   "cell_type": "markdown",
   "id": "7f4ffe3e",
   "metadata": {},
   "source": [
    "## 3. Text Analysis of Complaint Narratives\n",
    "\n",
    "Now let's analyze the consumer complaint narratives to understand text characteristics and identify patterns."
   ]
  },
  {
   "cell_type": "code",
   "execution_count": 21,
   "id": "0d4d4e3d",
   "metadata": {},
   "outputs": [
    {
     "name": "stdout",
     "output_type": "stream",
     "text": [
      "=== NARRATIVE ANALYSIS ===\n",
      "Total complaints: 1,196\n",
      "Complaints with narratives: 106 (8.9%)\n",
      "Complaints without narratives: 1,090 (91.1%)\n",
      "\n",
      "Filtered dataset with narratives: 106\n",
      "\n",
      "=== TEXT LENGTH STATISTICS ===\n",
      "Character count:\n",
      "count     106.000000\n",
      "mean     1147.924528\n",
      "std       740.177504\n",
      "min       119.000000\n",
      "25%       634.500000\n",
      "50%       979.000000\n",
      "75%      1432.500000\n",
      "max      3896.000000\n",
      "Name: narrative_length, dtype: float64\n",
      "\n",
      "Word count:\n",
      "count    106.000000\n",
      "mean     203.330189\n",
      "std      128.861588\n",
      "min       18.000000\n",
      "25%      113.250000\n",
      "50%      171.000000\n",
      "75%      253.750000\n",
      "max      729.000000\n",
      "Name: word_count, dtype: float64\n",
      "\n",
      "Sentence count:\n",
      "count    106.000000\n",
      "mean      11.792453\n",
      "std        7.853076\n",
      "min        1.000000\n",
      "25%        7.000000\n",
      "50%       10.000000\n",
      "75%       15.750000\n",
      "max       47.000000\n",
      "Name: sentence_count, dtype: float64\n",
      "\n",
      "=== EXTREME CASES ===\n",
      "Very short narratives (≤50 chars): 0 (0.0%)\n",
      "Very long narratives (≥5000 chars): 0 (0.0%)\n",
      "\n",
      "=== EXAMPLE SHORT NARRATIVE ===\n",
      "No short narratives found.\n",
      "\n",
      "=== EXAMPLE LONG NARRATIVE (truncated) ===\n",
      "No long narratives found.\n"
     ]
    }
   ],
   "source": [
    "# Analyze complaint narratives\n",
    "print(\"=== NARRATIVE ANALYSIS ===\")\n",
    "\n",
    "# Check for missing narratives\n",
    "narrative_col = 'Consumer complaint narrative'\n",
    "total_complaints = len(df_filtered)\n",
    "complaints_with_narratives = df_filtered[narrative_col].notna().sum()\n",
    "complaints_without_narratives = total_complaints - complaints_with_narratives\n",
    "\n",
    "print(f\"Total complaints: {total_complaints:,}\")\n",
    "print(f\"Complaints with narratives: {complaints_with_narratives:,} ({complaints_with_narratives/total_complaints*100:.1f}%)\")\n",
    "print(f\"Complaints without narratives: {complaints_without_narratives:,} ({complaints_without_narratives/total_complaints*100:.1f}%)\")\n",
    "\n",
    "# Filter out complaints without narratives\n",
    "df_with_narratives = df_filtered[df_filtered[narrative_col].notna()].copy()\n",
    "print(f\"\\nFiltered dataset with narratives: {len(df_with_narratives):,}\")\n",
    "\n",
    "# Check if we have any narratives to analyze\n",
    "if len(df_with_narratives) == 0:\n",
    "    print(\"\\n⚠️  No complaint narratives available for analysis. Skipping text analysis.\")\n",
    "else:\n",
    "    # Analyze text length\n",
    "    df_with_narratives['narrative_length'] = df_with_narratives[narrative_col].str.len()\n",
    "    df_with_narratives['word_count'] = df_with_narratives[narrative_col].str.split().str.len()\n",
    "    df_with_narratives['sentence_count'] = df_with_narratives[narrative_col].str.split('.').str.len()\n",
    "\n",
    "    print(\"\\n=== TEXT LENGTH STATISTICS ===\")\n",
    "    print(\"Character count:\")\n",
    "    print(df_with_narratives['narrative_length'].describe())\n",
    "    print(\"\\nWord count:\")\n",
    "    print(df_with_narratives['word_count'].describe())\n",
    "    print(\"\\nSentence count:\")\n",
    "    print(df_with_narratives['sentence_count'].describe())\n",
    "\n",
    "    # Identify very short and very long narratives\n",
    "    print(\"\\n=== EXTREME CASES ===\")\n",
    "    short_threshold = 50  # characters\n",
    "    long_threshold = 5000  # characters\n",
    "\n",
    "    very_short = df_with_narratives[df_with_narratives['narrative_length'] <= short_threshold]\n",
    "    very_long = df_with_narratives[df_with_narratives['narrative_length'] >= long_threshold]\n",
    "\n",
    "    if len(df_with_narratives) > 0:\n",
    "        print(f\"Very short narratives (≤{short_threshold} chars): {len(very_short):,} ({len(very_short)/len(df_with_narratives)*100:.1f}%)\")\n",
    "        print(f\"Very long narratives (≥{long_threshold} chars): {len(very_long):,} ({len(very_long)/len(df_with_narratives)*100:.1f}%)\")\n",
    "    else:\n",
    "        print(\"No complaint narratives available for analysis.\")\n",
    "\n",
    "    # Show examples\n",
    "    print(\"\\n=== EXAMPLE SHORT NARRATIVE ===\")\n",
    "    if len(very_short) > 0:\n",
    "        print(very_short[narrative_col].iloc[0])\n",
    "    else:\n",
    "        print(\"No short narratives found.\")\n",
    "        \n",
    "    print(\"\\n=== EXAMPLE LONG NARRATIVE (truncated) ===\")\n",
    "    if len(very_long) > 0:\n",
    "        print(very_long[narrative_col].iloc[0][:500] + \"...\")\n",
    "    else:\n",
    "        print(\"No long narratives found.\")"
   ]
  },
  {
   "cell_type": "code",
   "execution_count": 22,
   "id": "536f36ec",
   "metadata": {},
   "outputs": [
    {
     "data": {
      "image/png": "[encoded data removed]",
      "text/plain": [
       "<Figure size 1080x720 with 4 Axes>"
      ]
     },
     "metadata": {},
     "output_type": "display_data"
    },
    {
     "name": "stdout",
     "output_type": "stream",
     "text": [
      "=== WORD FREQUENCY ANALYSIS ===\n",
      "Top 30 most common words:\n",
      "xxxx: 656\n",
      "account: 235\n",
      "card: 137\n",
      "credit: 105\n",
      "bank: 98\n",
      "xxxxxxxx: 96\n",
      "money: 86\n",
      "told: 66\n",
      "would: 65\n",
      "wells: 59\n",
      "fargo: 59\n",
      "made: 58\n",
      "funds: 55\n",
      "called: 53\n",
      "received: 51\n",
      "time: 50\n",
      "fraud: 47\n",
      "days: 45\n",
      "payment: 45\n",
      "back: 43\n",
      "said: 43\n",
      "xxxxyear: 43\n",
      "also: 40\n",
      "never: 39\n",
      "case: 38\n",
      "dispute: 37\n",
      "number: 37\n",
      "citi: 35\n",
      "transaction: 35\n",
      "transactions: 35\n",
      "Could not generate word cloud: Only supported for TrueType fonts\n",
      "Continuing with analysis...\n",
      "Top 30 most common words:\n",
      "xxxx: 656\n",
      "account: 235\n",
      "card: 137\n",
      "credit: 105\n",
      "bank: 98\n",
      "xxxxxxxx: 96\n",
      "money: 86\n",
      "told: 66\n",
      "would: 65\n",
      "wells: 59\n",
      "fargo: 59\n",
      "made: 58\n",
      "funds: 55\n",
      "called: 53\n",
      "received: 51\n",
      "time: 50\n",
      "fraud: 47\n",
      "days: 45\n",
      "payment: 45\n",
      "back: 43\n",
      "said: 43\n",
      "xxxxyear: 43\n",
      "also: 40\n",
      "never: 39\n",
      "case: 38\n",
      "dispute: 37\n",
      "number: 37\n",
      "citi: 35\n",
      "transaction: 35\n",
      "transactions: 35\n",
      "Could not generate word cloud: Only supported for TrueType fonts\n",
      "Continuing with analysis...\n"
     ]
    }
   ],
   "source": [
    "# Check if we have narratives to visualize\n",
    "if len(df_with_narratives) == 0 or 'narrative_length' not in df_with_narratives.columns:\n",
    "    print(\"⚠️  No complaint narratives available for visualization. Skipping text analysis charts.\")\n",
    "else:\n",
    "    # Visualize text length distributions\n",
    "    fig, axes = plt.subplots(2, 2, figsize=(15, 10))\n",
    "\n",
    "    # Character count distribution\n",
    "    axes[0, 0].hist(df_with_narratives['narrative_length'], bins=50, alpha=0.7, color='skyblue')\n",
    "    axes[0, 0].set_title('Distribution of Character Count')\n",
    "    axes[0, 0].set_xlabel('Character Count')\n",
    "    axes[0, 0].set_ylabel('Frequency')\n",
    "\n",
    "    # Word count distribution\n",
    "    axes[0, 1].hist(df_with_narratives['word_count'], bins=50, alpha=0.7, color='lightgreen')\n",
    "    axes[0, 1].set_title('Distribution of Word Count')\n",
    "    axes[0, 1].set_xlabel('Word Count')\n",
    "    axes[0, 1].set_ylabel('Frequency')\n",
    "\n",
    "    # Box plot of word count by product\n",
    "    df_with_narratives.boxplot(column='word_count', by='Product_mapped', ax=axes[1, 0])\n",
    "    axes[1, 0].set_title('Word Count by Product')\n",
    "    axes[1, 0].set_xlabel('Product')\n",
    "    axes[1, 0].set_ylabel('Word Count')\n",
    "\n",
    "    # Scatter plot: word count vs character count\n",
    "    axes[1, 1].scatter(df_with_narratives['word_count'], df_with_narratives['narrative_length'], \n",
    "                      alpha=0.1, s=1)\n",
    "    axes[1, 1].set_title('Word Count vs Character Count')\n",
    "    axes[1, 1].set_xlabel('Word Count')\n",
    "    axes[1, 1].set_ylabel('Character Count')\n",
    "\n",
    "    plt.tight_layout()\n",
    "    plt.show()\n",
    "\n",
    "    # Word frequency analysis\n",
    "    print(\"=== WORD FREQUENCY ANALYSIS ===\")\n",
    "\n",
    "    # Function to clean and tokenize text with fallback\n",
    "    def clean_and_tokenize(text):\n",
    "        if pd.isna(text):\n",
    "            return []\n",
    "        \n",
    "        # Convert to lowercase and remove special characters\n",
    "        text = re.sub(r'[^\\w\\s]', '', text.lower())\n",
    "        \n",
    "        # Try NLTK tokenization first, fallback to simple split\n",
    "        try:\n",
    "            tokens = word_tokenize(text)\n",
    "        except LookupError:\n",
    "            # Fallback to simple whitespace tokenization\n",
    "            print(\"⚠️  NLTK tokenizer not available, using simple tokenization\")\n",
    "            tokens = text.split()\n",
    "        \n",
    "        # Remove stopwords\n",
    "        try:\n",
    "            stop_words = set(stopwords.words('english'))\n",
    "        except LookupError:\n",
    "            # Fallback to basic English stopwords\n",
    "            stop_words = set(['the', 'a', 'an', 'and', 'or', 'but', 'in', 'on', 'at', 'to', 'for', 'of', 'with', 'by', 'is', 'are', 'was', 'were', 'be', 'been', 'have', 'has', 'had', 'do', 'does', 'did', 'will', 'would', 'could', 'should', 'may', 'might', 'must', 'can', 'this', 'that', 'these', 'those', 'i', 'you', 'he', 'she', 'it', 'we', 'they', 'me', 'him', 'her', 'us', 'them', 'my', 'your', 'his', 'her', 'its', 'our', 'their'])\n",
    "        \n",
    "        tokens = [token for token in tokens if token not in stop_words and len(token) > 2]\n",
    "        return tokens\n",
    "\n",
    "    # Sample a subset for word frequency analysis (for performance)\n",
    "    sample_size = min(10000, len(df_with_narratives))\n",
    "    sample_df = df_with_narratives.sample(n=sample_size, random_state=42)\n",
    "\n",
    "    # Tokenize all narratives\n",
    "    all_tokens = []\n",
    "    for narrative in sample_df[narrative_col]:\n",
    "        tokens = clean_and_tokenize(narrative)\n",
    "        all_tokens.extend(tokens)\n",
    "\n",
    "    # Get most common words\n",
    "    word_freq = Counter(all_tokens)\n",
    "    \n",
    "    if len(word_freq) > 0:\n",
    "        top_words = word_freq.most_common(30)\n",
    "\n",
    "        print(\"Top 30 most common words:\")\n",
    "        for word, count in top_words:\n",
    "            print(f\"{word}: {count}\")\n",
    "\n",
    "        # Create word cloud\n",
    "        try:\n",
    "            wordcloud = WordCloud(width=800, height=400, background_color='white').generate_from_frequencies(word_freq)\n",
    "\n",
    "            plt.figure(figsize=(12, 6))\n",
    "            plt.imshow(wordcloud, interpolation='bilinear')\n",
    "            plt.axis('off')\n",
    "            plt.title('Word Cloud of Complaint Narratives')\n",
    "            plt.show()\n",
    "        except Exception as e:\n",
    "            print(f\"Could not generate word cloud: {e}\")\n",
    "            print(\"Continuing with analysis...\")\n",
    "    else:\n",
    "        print(\"No words found for frequency analysis.\")"
   ]
  },
  {
   "cell_type": "markdown",
   "id": "e258f893",
   "metadata": {},
   "source": [
    "## 4. Data Cleaning and Preprocessing\n",
    "\n",
    "Now let's clean the text narratives to improve embedding quality and prepare the final dataset."
   ]
  },
  {
   "cell_type": "code",
   "execution_count": 23,
   "id": "c523fc0a",
   "metadata": {},
   "outputs": [
    {
     "name": "stdout",
     "output_type": "stream",
     "text": [
      "=== CLEANING COMPLAINT NARRATIVES ===\n",
      "Before cleaning: 106 complaints\n",
      "After cleaning: 106 complaints\n",
      "Removed: 0 complaints\n",
      "\n",
      "=== TEXT LENGTH COMPARISON ===\n",
      "Original text length:\n",
      "count     106.000000\n",
      "mean     1147.924528\n",
      "std       740.177504\n",
      "min       119.000000\n",
      "25%       634.500000\n",
      "50%       979.000000\n",
      "75%      1432.500000\n",
      "max      3896.000000\n",
      "Name: original_length, dtype: float64\n",
      "\n",
      "Cleaned text length:\n",
      "count     106.000000\n",
      "mean     1109.179245\n",
      "std       714.863527\n",
      "min       119.000000\n",
      "25%       590.000000\n",
      "50%       933.000000\n",
      "75%      1396.000000\n",
      "max      3854.000000\n",
      "Name: cleaned_length, dtype: float64\n",
      "\n",
      "=== CLEANING EXAMPLE ===\n",
      "Original:\n",
      "A XXXX XXXX card was opened under my name by a fraudster. I received a notice from XXXX  that an account was just opened under my name. I reached out to XXXX XXXX to state that this activity was unauthorized and not me. XXXX XXXX confirmed this was fraudulent and immediately closed the card. However, they have failed to remove this from the three credit agencies and this fraud is now impacting my credit score based on a hard credit pull done by XXXX XXXX that was done by a fraudster.\n",
      "\n",
      "Cleaned:\n",
      "a card was opened under my name by a fraudster. i received a notice from that an account was just opened under my name. i reached out to to state that this activity was unauthorized and not me. confirmed this was fraudulent and immediately closed the card. however, they have failed to remove this from the three credit agencies and this fraud is now impacting my credit score based on a hard credit pull done by that was done by a fraudster.\n"
     ]
    }
   ],
   "source": [
    "# Text cleaning function\n",
    "def clean_complaint_text(text):\n",
    "    \"\"\"\n",
    "    Clean complaint text for better embedding quality\n",
    "    \"\"\"\n",
    "    if pd.isna(text):\n",
    "        return None\n",
    "    \n",
    "    # Convert to string and lowercase\n",
    "    text = str(text).lower()\n",
    "    \n",
    "    # Remove common boilerplate text\n",
    "    boilerplate_phrases = [\n",
    "        \"i am writing to file a complaint\",\n",
    "        \"i would like to file a complaint\",\n",
    "        \"this is a complaint about\",\n",
    "        \"dear sir or madam\",\n",
    "        \"to whom it may concern\",\n",
    "        \"i am contacting you regarding\",\n",
    "        \"i am writing this letter to\",\n",
    "        \"xxxx\", \"xx/xx/xxxx\"\n",
    "    ]\n",
    "    \n",
    "    for phrase in boilerplate_phrases:\n",
    "        text = text.replace(phrase, \"\")\n",
    "    \n",
    "    # Remove excessive whitespace and normalize\n",
    "    text = re.sub(r'\\s+', ' ', text)\n",
    "    text = text.strip()\n",
    "    \n",
    "    # Remove very short texts (less than 20 characters)\n",
    "    if len(text) < 20:\n",
    "        return None\n",
    "    \n",
    "    return text\n",
    "\n",
    "# Apply cleaning\n",
    "print(\"=== CLEANING COMPLAINT NARRATIVES ===\")\n",
    "print(f\"Before cleaning: {len(df_with_narratives)} complaints\")\n",
    "\n",
    "df_with_narratives['cleaned_narrative'] = df_with_narratives[narrative_col].apply(clean_complaint_text)\n",
    "\n",
    "# Remove rows with None values after cleaning\n",
    "df_cleaned = df_with_narratives.dropna(subset=['cleaned_narrative']).copy()\n",
    "\n",
    "print(f\"After cleaning: {len(df_cleaned)} complaints\")\n",
    "print(f\"Removed: {len(df_with_narratives) - len(df_cleaned)} complaints\")\n",
    "\n",
    "# Compare original vs cleaned text length\n",
    "df_cleaned['original_length'] = df_cleaned[narrative_col].str.len()\n",
    "df_cleaned['cleaned_length'] = df_cleaned['cleaned_narrative'].str.len()\n",
    "\n",
    "print(\"\\n=== TEXT LENGTH COMPARISON ===\")\n",
    "print(\"Original text length:\")\n",
    "print(df_cleaned['original_length'].describe())\n",
    "print(\"\\nCleaned text length:\")\n",
    "print(df_cleaned['cleaned_length'].describe())\n",
    "\n",
    "# Show example of cleaning\n",
    "print(\"\\n=== CLEANING EXAMPLE ===\")\n",
    "idx = 0\n",
    "print(\"Original:\")\n",
    "print(df_cleaned[narrative_col].iloc[idx])\n",
    "print(\"\\nCleaned:\")\n",
    "print(df_cleaned['cleaned_narrative'].iloc[idx])"
   ]
  },
  {
   "cell_type": "code",
   "execution_count": 24,
   "id": "84b544fb",
   "metadata": {},
   "outputs": [
    {
     "name": "stdout",
     "output_type": "stream",
     "text": [
      "=== PREPARING FINAL DATASET ===\n",
      "Final dataset shape: (106, 10)\n",
      "Final dataset columns: ['Complaint ID', 'Product', 'Issue', 'Sub-issue', 'Company', 'State', 'Date received', 'Consumer_complaint_narrative', 'original_length', 'cleaned_length']\n",
      "\n",
      "=== FINAL DATASET STATISTICS BY PRODUCT ===\n",
      "                 Count  Mean_Length  Median_Length  Std_Length\n",
      "Product                                                       \n",
      "Credit card         50      1048.24          884.0      742.14\n",
      "Money transfers     13      1370.85         1290.0      644.25\n",
      "Personal loan        5      1080.00          410.0     1551.72\n",
      "Savings account     38      1103.68          939.0      544.68\n",
      "\n",
      "✅ Cleaned dataset saved to: ../data/filtered_complaints.csv\n",
      "\n",
      "==================================================\n",
      "SUMMARY REPORT\n",
      "==================================================\n",
      "Original dataset size: 50,000 complaints\n",
      "After product filtering: 1,196 complaints (2.4%)\n",
      "After narrative filtering: 106 complaints (0.2%)\n",
      "Final cleaned dataset: 106 complaints (0.2%)\n",
      "\n",
      "Target products included:\n",
      "  - Credit card: 50 complaints\n",
      "  - Savings account: 38 complaints\n",
      "  - Personal loan: 5 complaints\n",
      "  - Money transfers: 13 complaints\n",
      "\n",
      "Average narrative length: 1109 characters\n",
      "Ready for embedding and vector store creation! 🚀\n",
      "\n",
      "After narrative filtering: 106 complaints (0.2%)\n",
      "Final cleaned dataset: 106 complaints (0.2%)\n",
      "\n",
      "Target products included:\n",
      "  - Credit card: 50 complaints\n",
      "  - Savings account: 38 complaints\n",
      "  - Personal loan: 5 complaints\n",
      "  - Money transfers: 13 complaints\n",
      "\n",
      "Average narrative length: 1109 characters\n",
      "Ready for embedding and vector store creation! 🚀\n"
     ]
    }
   ],
   "source": [
    "# Prepare final dataset\n",
    "print(\"=== PREPARING FINAL DATASET ===\")\n",
    "\n",
    "# Select relevant columns for the RAG system\n",
    "columns_to_keep = [\n",
    "    'Complaint ID',\n",
    "    'Product_mapped',\n",
    "    'Issue',\n",
    "    'Sub-issue',\n",
    "    'Company',\n",
    "    'State',\n",
    "    'Date received',\n",
    "    'cleaned_narrative',\n",
    "    'original_length',\n",
    "    'cleaned_length'\n",
    "]\n",
    "\n",
    "# Create final dataset\n",
    "final_df = df_cleaned[columns_to_keep].copy()\n",
    "final_df = final_df.rename(columns={\n",
    "    'Product_mapped': 'Product',\n",
    "    'cleaned_narrative': 'Consumer_complaint_narrative'\n",
    "})\n",
    "\n",
    "print(f\"Final dataset shape: {final_df.shape}\")\n",
    "print(f\"Final dataset columns: {final_df.columns.tolist()}\")\n",
    "\n",
    "# Final statistics by product\n",
    "print(\"\\n=== FINAL DATASET STATISTICS BY PRODUCT ===\")\n",
    "product_stats = final_df.groupby('Product').agg({\n",
    "    'Consumer_complaint_narrative': 'count',\n",
    "    'cleaned_length': ['mean', 'median', 'std']\n",
    "}).round(2)\n",
    "\n",
    "product_stats.columns = ['Count', 'Mean_Length', 'Median_Length', 'Std_Length']\n",
    "print(product_stats)\n",
    "\n",
    "# Save the cleaned dataset\n",
    "output_path = \"../data/filtered_complaints.csv\"\n",
    "final_df.to_csv(output_path, index=False)\n",
    "print(f\"\\n✅ Cleaned dataset saved to: {output_path}\")\n",
    "\n",
    "# Summary report\n",
    "print(\"\\n\" + \"=\"*50)\n",
    "print(\"SUMMARY REPORT\")\n",
    "print(\"=\"*50)\n",
    "print(f\"Original dataset size: {len(df):,} complaints\")\n",
    "print(f\"After product filtering: {len(df_filtered):,} complaints ({len(df_filtered)/len(df)*100:.1f}%)\")\n",
    "print(f\"After narrative filtering: {len(df_with_narratives):,} complaints ({len(df_with_narratives)/len(df)*100:.1f}%)\")\n",
    "print(f\"Final cleaned dataset: {len(final_df):,} complaints ({len(final_df)/len(df)*100:.1f}%)\")\n",
    "print(f\"\\nTarget products included:\")\n",
    "for product in final_df['Product'].unique():\n",
    "    count = len(final_df[final_df['Product'] == product])\n",
    "    print(f\"  - {product}: {count:,} complaints\")\n",
    "print(f\"\\nAverage narrative length: {final_df['cleaned_length'].mean():.0f} characters\")\n",
    "print(f\"Ready for embedding and vector store creation! 🚀\")"
   ]
  },
  {
   "cell_type": "code",
   "execution_count": null,
   "id": "a7383f4c",
   "metadata": {},
   "outputs": [],
   "source": []
  }
 ],
 "metadata": {
  "kernelspec": {
   "display_name": "base",
   "language": "python",
   "name": "python3"
  },
  "language_info": {
   "codemirror_mode": {
    "name": "ipython",
    "version": 3
   },
   "file_extension": ".py",
   "mimetype": "text/x-python",
   "name": "python",
   "nbconvert_exporter": "python",
   "pygments_lexer": "ipython3",
   "version": "3.9.7"
  }
 },
 "nbformat": 4,
 "nbformat_minor": 5
}
